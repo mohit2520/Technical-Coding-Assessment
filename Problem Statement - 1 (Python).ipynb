{
 "cells": [
  {
   "cell_type": "code",
   "execution_count": 13,
   "id": "84e16236",
   "metadata": {},
   "outputs": [
    {
     "name": "stdout",
     "output_type": "stream",
     "text": [
      "['great', 'abc', 'hello', 'hiyo']\n"
     ]
    }
   ],
   "source": [
    "# You will have a number of elements and in the next n lines element of a list. You have to create a list from the given strings.\n",
    "# You have to sort the list based on 2nd last character of a string.\n",
    "# For example: given list = ['great','hello','hiyo','abc'] so your output_dictionary should be ['great', 'abc', 'hello','hiyo']\n",
    " \n",
    "# METHOD 1 \n",
    "    \n",
    "list = ['great','hello','hiyo','abc']\n",
    "list.sort(key=lambda x:x[-2])\n",
    "print(list)\n"
   ]
  },
  {
   "cell_type": "code",
   "execution_count": 16,
   "id": "e27f1baa",
   "metadata": {},
   "outputs": [
    {
     "name": "stdout",
     "output_type": "stream",
     "text": [
      "Enter the list size 4\n",
      "\n",
      "\n",
      "Enter number at index 0\n",
      "kumar\n",
      "Enter number at index 1\n",
      "mohit\n",
      "Enter number at index 2\n",
      "kb\n",
      "Enter number at index 3\n",
      "hight\n",
      "User list is  ['kumar', 'mohit', 'kb', 'hight']\n",
      "['kumar', 'hight', 'mohit', 'kb']\n"
     ]
    }
   ],
   "source": [
    "\n",
    "# METHOD 2\n",
    "\n",
    "_list = []\n",
    "n = int(input(\"Enter the list size \"))\n",
    "\n",
    "print(\"\\n\")\n",
    "for i in range(0, n):\n",
    "    print(\"Enter number at index\", i, )\n",
    "    item = str(input())\n",
    "    _list.append(item)\n",
    "print(\"User list is \",_list)\n",
    "\n",
    "_list.sort(key=lambda x:x[-2])\n",
    "print(_list)"
   ]
  },
  {
   "cell_type": "code",
   "execution_count": null,
   "id": "72ca0c37",
   "metadata": {},
   "outputs": [],
   "source": []
  },
  {
   "cell_type": "code",
   "execution_count": null,
   "id": "bcc7452c",
   "metadata": {},
   "outputs": [],
   "source": []
  }
 ],
 "metadata": {
  "kernelspec": {
   "display_name": "Python 3 (ipykernel)",
   "language": "python",
   "name": "python3"
  },
  "language_info": {
   "codemirror_mode": {
    "name": "ipython",
    "version": 3
   },
   "file_extension": ".py",
   "mimetype": "text/x-python",
   "name": "python",
   "nbconvert_exporter": "python",
   "pygments_lexer": "ipython3",
   "version": "3.9.12"
  }
 },
 "nbformat": 4,
 "nbformat_minor": 5
}
