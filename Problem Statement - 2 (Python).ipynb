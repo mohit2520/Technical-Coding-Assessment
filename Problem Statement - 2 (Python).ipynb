{
 "cells": [
  {
   "cell_type": "code",
   "execution_count": 1,
   "id": "523ce295",
   "metadata": {},
   "outputs": [],
   "source": [
    "#Your task is to complete the validate_triangle and validate_rectangle functions for the classes.\n",
    "# Hint for validating is given in the comments of the code. Also you will have to print the following after validation \n",
    "#in respective functions:-\n",
    "#1.Invalid Triangle: If the triangle sum property of sides is not valid(More hint in the comments of code)\n",
    "#2.Valid Triangle:If the triangle sum property of sides is valid.\n",
    "#3.Valid Rectangle:If 2 side pairs are same and they are input in correct order like l,b,l,b\n",
    "#4.Invalid Rectangle: If Not Valid rectangle as stated above.\n",
    "\n"
   ]
  },
  {
   "cell_type": "code",
   "execution_count": 6,
   "id": "0a0d7f81",
   "metadata": {},
   "outputs": [
    {
     "name": "stdout",
     "output_type": "stream",
     "text": [
      "Valid Rectangle\n",
      "Valid Triangle\n"
     ]
    }
   ],
   "source": [
    "\n",
    "# Method 1 : without taking input from user\n",
    "\n",
    "def Triangle(ts1, ts2, ts3):\n",
    "    if (ts1 + ts2 <= ts3) or (ts1 + ts3 <= ts2) or (ts2 + ts3 <= ts1) :\n",
    "        return False\n",
    "    else:\n",
    "        return True   \n",
    "def Rectangle(s1, s2, s3, s4):\n",
    "    if (s1 == s2 and s4 == s3) or (s1 == s3 and s2 == s4) or (s1 == s4 and s2 == s3):\n",
    "        return True\n",
    "    else:\n",
    "        return False\n",
    "ts1,ts2,ts3 = 3,4,5\n",
    "s1, s2, s3, s4 = 4, 2, 2, 4\n",
    "print(\"Valid Rectangle\" if Rectangle(s1, s2, s3, s4) else \"Invalid Rectangl\")\n",
    "\n",
    "if Triangle(ts1,ts2,ts3):\n",
    "    print(\"Valid Triangle\")\n",
    "else:\n",
    "    print(\"Invalid Triangle\")"
   ]
  },
  {
   "cell_type": "code",
   "execution_count": 19,
   "id": "bdbcc38e",
   "metadata": {},
   "outputs": [
    {
     "name": "stdout",
     "output_type": "stream",
     "text": [
      "enter 1st side of Triangle : 3\n",
      "enter 2nd side of Triangle : 4\n",
      "enter 3rd side of Triangle : 5\n",
      "Enter 4 side of a Rectangle :2 4 2 4\n",
      "Valid Rectangle\n",
      "Valid Triangle\n"
     ]
    }
   ],
   "source": [
    "\n",
    "def Triangle(ts1, ts2, ts3):\n",
    "    if (ts1 + ts2 <= ts3) or (ts1 + ts3 <= ts2) or (ts2 + ts3 <= ts1) :\n",
    "        return False\n",
    "    else:\n",
    "        return True   \n",
    "def Rectangle(s1, s2, s3, s4):\n",
    "    if (s1 == s2 and s4 == s3) or (s1 == s3 and s2 == s4) or (s1 == s4 and s2 == s3):\n",
    "        return True\n",
    "    else:\n",
    "        return False\n",
    "    \n",
    "ts1 = int(input(\"enter 1st side of Triangle : \"))\n",
    "ts2 = int(input(\"enter 2nd side of Triangle : \"))\n",
    "ts3 = int(input(\"enter 3rd side of Triangle : \"))\n",
    "\n",
    "s1, s2, s3, s4 = input(\"Enter 4 side of a Rectangle :\").split()\n",
    "\n",
    "print(\"Valid Rectangle\" if Rectangle(s1, s2, s3, s4) else \"Invalid Rectangl\")\n",
    "\n",
    "if Triangle(ts1,ts2,ts3):\n",
    "    print(\"Valid Triangle\")\n",
    "else:\n",
    "    print(\"Invalid Triangle\")\n"
   ]
  },
  {
   "cell_type": "markdown",
   "id": "089c57df",
   "metadata": {},
   "source": []
  },
  {
   "cell_type": "code",
   "execution_count": null,
   "id": "e40cb7c0",
   "metadata": {},
   "outputs": [],
   "source": []
  },
  {
   "cell_type": "code",
   "execution_count": null,
   "id": "23d9bd56",
   "metadata": {},
   "outputs": [],
   "source": [
    " "
   ]
  },
  {
   "cell_type": "code",
   "execution_count": null,
   "id": "3a964146",
   "metadata": {},
   "outputs": [],
   "source": []
  }
 ],
 "metadata": {
  "kernelspec": {
   "display_name": "Python 3 (ipykernel)",
   "language": "python",
   "name": "python3"
  },
  "language_info": {
   "codemirror_mode": {
    "name": "ipython",
    "version": 3
   },
   "file_extension": ".py",
   "mimetype": "text/x-python",
   "name": "python",
   "nbconvert_exporter": "python",
   "pygments_lexer": "ipython3",
   "version": "3.9.12"
  }
 },
 "nbformat": 4,
 "nbformat_minor": 5
}
